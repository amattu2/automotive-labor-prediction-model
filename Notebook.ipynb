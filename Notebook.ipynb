{
 "cells": [
  {
   "cell_type": "markdown",
   "metadata": {
    "_uuid": "8f2c1d669c79aa6f4243862311bbed58c92b9df2"
   },
   "source": [
    "# Model Training Notebook\n",
    "\n",
    "This notebook is used to setup, clean and train the repair item prediction model.\n",
    "\n",
    "An example row in the dataset.csv looks like:\n",
    "```CSV\n",
    "\"ItemID\",\"UUID\",\"Description\",\"ItemDescription\"\n",
    "\"9\",\"8f14e45fceea167a5a36dedd4bea2543\",\"CHANGE OIL & FILTER,TOP OFF FLUIDS\",\"CHANGE OIL & FILTER,TOP OFF FLUIDS\"\n",
    "\"20\",\"8f14e45fceea167a5a36dedd4bea2543\",\"CHANGE OIL & FILTER,TOP OFF FLUIDS\",\"R & R FRONT STRUT ASSY (ONE)\"\n",
    "\"31\",\"8f14e45fceea167a5a36dedd4bea2543\",\"CHANGE OIL & FILTER,TOP OFF FLUIDS\",\"4 WHEEL ALIGNMENT- SUBLET\"\n",
    "```"
   ]
  },
  {
   "cell_type": "code",
   "execution_count": 2,
   "metadata": {},
   "outputs": [],
   "source": [
    "# %pip install scikit-learn\n",
    "# %pip install scikit-multilearn\n",
    "# %pip install pandas\n",
    "# %pip install numpy\n",
    "# %pip install scipy\n",
    "# %pip install xgboost"
   ]
  },
  {
   "cell_type": "markdown",
   "metadata": {
    "_uuid": "f50e5782892d34c2840f1c93621dfd6a7fd500c7"
   },
   "source": [
    "## Data Setup"
   ]
  },
  {
   "cell_type": "code",
   "execution_count": 3,
   "metadata": {
    "_cell_guid": "b1076dfc-b9ad-4769-8c92-a6c4dae69d19",
    "_uuid": "8f2839f25d086af736a60e9eeb907d3b93b6e0e5"
   },
   "outputs": [],
   "source": [
    "import pandas as pd\n",
    "import numpy as np"
   ]
  },
  {
   "cell_type": "code",
   "execution_count": 4,
   "metadata": {
    "_cell_guid": "79c7e3d0-c299-4dcb-8224-4455121ee9b0",
    "_uuid": "d629ff2d2480ee46fbb7e2d37f6b5fab8052498a"
   },
   "outputs": [],
   "source": [
    "df = pd.read_csv('dataset.csv', header = 0)"
   ]
  },
  {
   "cell_type": "code",
   "execution_count": 5,
   "metadata": {
    "_uuid": "46754062871747549aa822f8c85326be82f603f1"
   },
   "outputs": [
    {
     "data": {
      "text/html": [
       "<div>\n",
       "<style scoped>\n",
       "    .dataframe tbody tr th:only-of-type {\n",
       "        vertical-align: middle;\n",
       "    }\n",
       "\n",
       "    .dataframe tbody tr th {\n",
       "        vertical-align: top;\n",
       "    }\n",
       "\n",
       "    .dataframe thead th {\n",
       "        text-align: right;\n",
       "    }\n",
       "</style>\n",
       "<table border=\"1\" class=\"dataframe\">\n",
       "  <thead>\n",
       "    <tr style=\"text-align: right;\">\n",
       "      <th></th>\n",
       "      <th>ItemID</th>\n",
       "      <th>UUID</th>\n",
       "      <th>Description</th>\n",
       "      <th>ItemDescription</th>\n",
       "    </tr>\n",
       "  </thead>\n",
       "  <tbody>\n",
       "    <tr>\n",
       "      <th>0</th>\n",
       "      <td>9</td>\n",
       "      <td>8f14e45fceea167a5a36dedd4bea2543</td>\n",
       "      <td>CHANGE OIL &amp; FILTER,TOP OFF FLUIDS</td>\n",
       "      <td>CHANGE OIL &amp; FILTER,TOP OFF FLUIDS</td>\n",
       "    </tr>\n",
       "    <tr>\n",
       "      <th>1</th>\n",
       "      <td>20</td>\n",
       "      <td>8f14e45fceea167a5a36dedd4bea2543</td>\n",
       "      <td>CHANGE OIL &amp; FILTER,TOP OFF FLUIDS</td>\n",
       "      <td>R &amp; R FRONT STRUT ASSY (ONE)</td>\n",
       "    </tr>\n",
       "    <tr>\n",
       "      <th>2</th>\n",
       "      <td>31</td>\n",
       "      <td>8f14e45fceea167a5a36dedd4bea2543</td>\n",
       "      <td>CHANGE OIL &amp; FILTER,TOP OFF FLUIDS</td>\n",
       "      <td>4 WHEEL ALIGNMENT- SUBLET</td>\n",
       "    </tr>\n",
       "    <tr>\n",
       "      <th>3</th>\n",
       "      <td>29</td>\n",
       "      <td>6512bd43d9caa6e02c990b0a82652dca</td>\n",
       "      <td>REPAIR (PLUG) TIRE ON CAR</td>\n",
       "      <td>REPAIR (PLUG) TIRE ON CAR</td>\n",
       "    </tr>\n",
       "    <tr>\n",
       "      <th>4</th>\n",
       "      <td>53</td>\n",
       "      <td>6f4922f45568161a8cdf4ad2299f6d23</td>\n",
       "      <td>CHANGE OIL &amp; FILTER,TOP OFF FLUIDS</td>\n",
       "      <td>CHANGE OIL &amp; FILTER,TOP OFF FLUIDS</td>\n",
       "    </tr>\n",
       "  </tbody>\n",
       "</table>\n",
       "</div>"
      ],
      "text/plain": [
       "   ItemID                              UUID  \\\n",
       "0       9  8f14e45fceea167a5a36dedd4bea2543   \n",
       "1      20  8f14e45fceea167a5a36dedd4bea2543   \n",
       "2      31  8f14e45fceea167a5a36dedd4bea2543   \n",
       "3      29  6512bd43d9caa6e02c990b0a82652dca   \n",
       "4      53  6f4922f45568161a8cdf4ad2299f6d23   \n",
       "\n",
       "                          Description                     ItemDescription  \n",
       "0  CHANGE OIL & FILTER,TOP OFF FLUIDS  CHANGE OIL & FILTER,TOP OFF FLUIDS  \n",
       "1  CHANGE OIL & FILTER,TOP OFF FLUIDS        R & R FRONT STRUT ASSY (ONE)  \n",
       "2  CHANGE OIL & FILTER,TOP OFF FLUIDS           4 WHEEL ALIGNMENT- SUBLET  \n",
       "3           REPAIR (PLUG) TIRE ON CAR           REPAIR (PLUG) TIRE ON CAR  \n",
       "4  CHANGE OIL & FILTER,TOP OFF FLUIDS  CHANGE OIL & FILTER,TOP OFF FLUIDS  "
      ]
     },
     "execution_count": 5,
     "metadata": {},
     "output_type": "execute_result"
    }
   ],
   "source": [
    "df.head()"
   ]
  },
  {
   "cell_type": "code",
   "execution_count": 6,
   "metadata": {
    "_uuid": "14f02db3d19ac582e124cdb1254fa0fb5ce28d9a"
   },
   "outputs": [
    {
     "data": {
      "text/plain": [
       "(251517, 4)"
      ]
     },
     "execution_count": 6,
     "metadata": {},
     "output_type": "execute_result"
    }
   ],
   "source": [
    "df.shape"
   ]
  },
  {
   "cell_type": "code",
   "execution_count": 7,
   "metadata": {},
   "outputs": [
    {
     "name": "stdout",
     "output_type": "stream",
     "text": [
      "<class 'pandas.core.frame.DataFrame'>\n",
      "RangeIndex: 251517 entries, 0 to 251516\n",
      "Data columns (total 4 columns):\n",
      " #   Column           Non-Null Count   Dtype \n",
      "---  ------           --------------   ----- \n",
      " 0   ItemID           251517 non-null  int64 \n",
      " 1   UUID             251517 non-null  object\n",
      " 2   Description      251515 non-null  object\n",
      " 3   ItemDescription  251465 non-null  object\n",
      "dtypes: int64(1), object(3)\n",
      "memory usage: 7.7+ MB\n"
     ]
    }
   ],
   "source": [
    "df.info()"
   ]
  },
  {
   "cell_type": "code",
   "execution_count": 8,
   "metadata": {
    "_uuid": "9516bdda15c4542a7123a04b62e5ac96873e0a27",
    "scrolled": true
   },
   "outputs": [
    {
     "data": {
      "text/plain": [
       "ItemID             False\n",
       "UUID               False\n",
       "Description         True\n",
       "ItemDescription     True\n",
       "dtype: bool"
      ]
     },
     "execution_count": 8,
     "metadata": {},
     "output_type": "execute_result"
    }
   ],
   "source": [
    "df.isnull().any()"
   ]
  },
  {
   "cell_type": "markdown",
   "metadata": {},
   "source": [
    "---"
   ]
  },
  {
   "cell_type": "markdown",
   "metadata": {},
   "source": [
    "## Data Cleanup"
   ]
  },
  {
   "cell_type": "code",
   "execution_count": 9,
   "metadata": {},
   "outputs": [
    {
     "data": {
      "text/plain": [
       "ItemID             False\n",
       "UUID               False\n",
       "Description        False\n",
       "ItemDescription    False\n",
       "dtype: bool"
      ]
     },
     "execution_count": 9,
     "metadata": {},
     "output_type": "execute_result"
    }
   ],
   "source": [
    "# Remove critical columns that have no value\n",
    "df = df.dropna(subset=['Description', 'ItemDescription'])\n",
    "\n",
    "df.isnull().any()"
   ]
  },
  {
   "cell_type": "code",
   "execution_count": 10,
   "metadata": {},
   "outputs": [],
   "source": [
    "# Drop unused reference column\n",
    "df = df.drop(columns=['ItemID'])"
   ]
  },
  {
   "cell_type": "code",
   "execution_count": 11,
   "metadata": {},
   "outputs": [
    {
     "data": {
      "text/html": [
       "<div>\n",
       "<style scoped>\n",
       "    .dataframe tbody tr th:only-of-type {\n",
       "        vertical-align: middle;\n",
       "    }\n",
       "\n",
       "    .dataframe tbody tr th {\n",
       "        vertical-align: top;\n",
       "    }\n",
       "\n",
       "    .dataframe thead th {\n",
       "        text-align: right;\n",
       "    }\n",
       "</style>\n",
       "<table border=\"1\" class=\"dataframe\">\n",
       "  <thead>\n",
       "    <tr style=\"text-align: right;\">\n",
       "      <th></th>\n",
       "      <th>UUID</th>\n",
       "      <th>Description</th>\n",
       "      <th>ItemDescription</th>\n",
       "    </tr>\n",
       "  </thead>\n",
       "  <tbody>\n",
       "    <tr>\n",
       "      <th>0</th>\n",
       "      <td>8f14e45fceea167a5a36dedd4bea2543</td>\n",
       "      <td>change oil &amp; filter,top off fluids</td>\n",
       "      <td>change oil &amp; filter,top off fluids</td>\n",
       "    </tr>\n",
       "    <tr>\n",
       "      <th>1</th>\n",
       "      <td>8f14e45fceea167a5a36dedd4bea2543</td>\n",
       "      <td>change oil &amp; filter,top off fluids</td>\n",
       "      <td>r &amp; r front strut assy (one)</td>\n",
       "    </tr>\n",
       "    <tr>\n",
       "      <th>2</th>\n",
       "      <td>8f14e45fceea167a5a36dedd4bea2543</td>\n",
       "      <td>change oil &amp; filter,top off fluids</td>\n",
       "      <td>4 wheel alignment- sublet</td>\n",
       "    </tr>\n",
       "    <tr>\n",
       "      <th>3</th>\n",
       "      <td>6512bd43d9caa6e02c990b0a82652dca</td>\n",
       "      <td>repair (plug) tire on car</td>\n",
       "      <td>repair (plug) tire on car</td>\n",
       "    </tr>\n",
       "    <tr>\n",
       "      <th>4</th>\n",
       "      <td>6f4922f45568161a8cdf4ad2299f6d23</td>\n",
       "      <td>change oil &amp; filter,top off fluids</td>\n",
       "      <td>change oil &amp; filter,top off fluids</td>\n",
       "    </tr>\n",
       "  </tbody>\n",
       "</table>\n",
       "</div>"
      ],
      "text/plain": [
       "                               UUID                         Description  \\\n",
       "0  8f14e45fceea167a5a36dedd4bea2543  change oil & filter,top off fluids   \n",
       "1  8f14e45fceea167a5a36dedd4bea2543  change oil & filter,top off fluids   \n",
       "2  8f14e45fceea167a5a36dedd4bea2543  change oil & filter,top off fluids   \n",
       "3  6512bd43d9caa6e02c990b0a82652dca           repair (plug) tire on car   \n",
       "4  6f4922f45568161a8cdf4ad2299f6d23  change oil & filter,top off fluids   \n",
       "\n",
       "                      ItemDescription  \n",
       "0  change oil & filter,top off fluids  \n",
       "1        r & r front strut assy (one)  \n",
       "2           4 wheel alignment- sublet  \n",
       "3           repair (plug) tire on car  \n",
       "4  change oil & filter,top off fluids  "
      ]
     },
     "execution_count": 11,
     "metadata": {},
     "output_type": "execute_result"
    }
   ],
   "source": [
    "# Enforce consistent casing\n",
    "df['Description'] = df['Description'].str.lower()\n",
    "df['ItemDescription'] = df['ItemDescription'].str.lower()\n",
    "\n",
    "df.head()"
   ]
  },
  {
   "cell_type": "code",
   "execution_count": 12,
   "metadata": {},
   "outputs": [
    {
     "data": {
      "text/html": [
       "<div>\n",
       "<style scoped>\n",
       "    .dataframe tbody tr th:only-of-type {\n",
       "        vertical-align: middle;\n",
       "    }\n",
       "\n",
       "    .dataframe tbody tr th {\n",
       "        vertical-align: top;\n",
       "    }\n",
       "\n",
       "    .dataframe thead th {\n",
       "        text-align: right;\n",
       "    }\n",
       "</style>\n",
       "<table border=\"1\" class=\"dataframe\">\n",
       "  <thead>\n",
       "    <tr style=\"text-align: right;\">\n",
       "      <th></th>\n",
       "      <th>UUID</th>\n",
       "      <th>Description</th>\n",
       "      <th>ItemDescription</th>\n",
       "    </tr>\n",
       "  </thead>\n",
       "  <tbody>\n",
       "    <tr>\n",
       "      <th>0</th>\n",
       "      <td>8f14e45fceea167a5a36dedd4bea2543</td>\n",
       "      <td>change oil &amp; filter,top off fluids</td>\n",
       "      <td>change oil &amp; filter,top off fluids</td>\n",
       "    </tr>\n",
       "    <tr>\n",
       "      <th>1</th>\n",
       "      <td>8f14e45fceea167a5a36dedd4bea2543</td>\n",
       "      <td>change oil &amp; filter,top off fluids</td>\n",
       "      <td>r &amp; r front strut assy (one)</td>\n",
       "    </tr>\n",
       "    <tr>\n",
       "      <th>2</th>\n",
       "      <td>8f14e45fceea167a5a36dedd4bea2543</td>\n",
       "      <td>change oil &amp; filter,top off fluids</td>\n",
       "      <td>4 wheel alignment- sublet</td>\n",
       "    </tr>\n",
       "    <tr>\n",
       "      <th>3</th>\n",
       "      <td>6512bd43d9caa6e02c990b0a82652dca</td>\n",
       "      <td>repair  tire on car</td>\n",
       "      <td>repair (plug) tire on car</td>\n",
       "    </tr>\n",
       "    <tr>\n",
       "      <th>4</th>\n",
       "      <td>6f4922f45568161a8cdf4ad2299f6d23</td>\n",
       "      <td>change oil &amp; filter,top off fluids</td>\n",
       "      <td>change oil &amp; filter,top off fluids</td>\n",
       "    </tr>\n",
       "  </tbody>\n",
       "</table>\n",
       "</div>"
      ],
      "text/plain": [
       "                               UUID                         Description  \\\n",
       "0  8f14e45fceea167a5a36dedd4bea2543  change oil & filter,top off fluids   \n",
       "1  8f14e45fceea167a5a36dedd4bea2543  change oil & filter,top off fluids   \n",
       "2  8f14e45fceea167a5a36dedd4bea2543  change oil & filter,top off fluids   \n",
       "3  6512bd43d9caa6e02c990b0a82652dca                 repair  tire on car   \n",
       "4  6f4922f45568161a8cdf4ad2299f6d23  change oil & filter,top off fluids   \n",
       "\n",
       "                      ItemDescription  \n",
       "0  change oil & filter,top off fluids  \n",
       "1        r & r front strut assy (one)  \n",
       "2           4 wheel alignment- sublet  \n",
       "3           repair (plug) tire on car  \n",
       "4  change oil & filter,top off fluids  "
      ]
     },
     "execution_count": 12,
     "metadata": {},
     "output_type": "execute_result"
    }
   ],
   "source": [
    "# Remove anything in parentheses, brackets, or braces\n",
    "df['Description'] = df['Description'].str.replace(r'\\(.*\\)', '', regex=True)\n",
    "df['Description'] = df['Description'].str.replace(r'\\[.*\\]', '', regex=True)\n",
    "df['Description'] = df['Description'].str.replace(r'\\{.*\\}', '', regex=True)\n",
    "\n",
    "# Remove specific values that have no relation to the prediction\n",
    "df[\"Description\"] = df[\"Description\"].str.replace(\"notes\", \"\", regex=False)\n",
    "\n",
    "# Remove trailing whitespace or commas\n",
    "df[\"Description\"] = df[\"Description\"].str.rstrip(\", \")\n",
    "\n",
    "df.head()"
   ]
  },
  {
   "cell_type": "code",
   "execution_count": 13,
   "metadata": {},
   "outputs": [
    {
     "data": {
      "text/html": [
       "<div>\n",
       "<style scoped>\n",
       "    .dataframe tbody tr th:only-of-type {\n",
       "        vertical-align: middle;\n",
       "    }\n",
       "\n",
       "    .dataframe tbody tr th {\n",
       "        vertical-align: top;\n",
       "    }\n",
       "\n",
       "    .dataframe thead th {\n",
       "        text-align: right;\n",
       "    }\n",
       "</style>\n",
       "<table border=\"1\" class=\"dataframe\">\n",
       "  <thead>\n",
       "    <tr style=\"text-align: right;\">\n",
       "      <th></th>\n",
       "      <th>Description</th>\n",
       "      <th>Items</th>\n",
       "    </tr>\n",
       "    <tr>\n",
       "      <th>UUID</th>\n",
       "      <th></th>\n",
       "      <th></th>\n",
       "    </tr>\n",
       "  </thead>\n",
       "  <tbody>\n",
       "    <tr>\n",
       "      <th>000053b1e684c9e7ea73727b2238ce18</th>\n",
       "      <td>oc, sb, caf, af</td>\n",
       "      <td>[change oil &amp; filter, check tires &amp; adjust tir...</td>\n",
       "    </tr>\n",
       "    <tr>\n",
       "      <th>0000b2815cc3c2b56867cbbf4d36efa5</th>\n",
       "      <td>oc, sb</td>\n",
       "      <td>[change oil &amp; filter, check tires &amp; adjust tir...</td>\n",
       "    </tr>\n",
       "    <tr>\n",
       "      <th>000133296ef6b63b0210f224e1347365</th>\n",
       "      <td>oc, su, caf, wipers</td>\n",
       "      <td>[change oil &amp; filter, check tires &amp; adjust tir...</td>\n",
       "    </tr>\n",
       "    <tr>\n",
       "      <th>00017961865c4f766fdbb3cd8fe0bfb0</th>\n",
       "      <td>buff vehicle</td>\n",
       "      <td>[buff vehicle, work light scratches, spray wax]</td>\n",
       "    </tr>\n",
       "    <tr>\n",
       "      <th>00019d812c1173c8a69c656a40fa8767</th>\n",
       "      <td>warr. ops</td>\n",
       "      <td>[warranty replacement of oil pressure switch]</td>\n",
       "    </tr>\n",
       "  </tbody>\n",
       "</table>\n",
       "</div>"
      ],
      "text/plain": [
       "                                           Description  \\\n",
       "UUID                                                     \n",
       "000053b1e684c9e7ea73727b2238ce18       oc, sb, caf, af   \n",
       "0000b2815cc3c2b56867cbbf4d36efa5                oc, sb   \n",
       "000133296ef6b63b0210f224e1347365   oc, su, caf, wipers   \n",
       "00017961865c4f766fdbb3cd8fe0bfb0          buff vehicle   \n",
       "00019d812c1173c8a69c656a40fa8767             warr. ops   \n",
       "\n",
       "                                                                              Items  \n",
       "UUID                                                                                 \n",
       "000053b1e684c9e7ea73727b2238ce18  [change oil & filter, check tires & adjust tir...  \n",
       "0000b2815cc3c2b56867cbbf4d36efa5  [change oil & filter, check tires & adjust tir...  \n",
       "000133296ef6b63b0210f224e1347365  [change oil & filter, check tires & adjust tir...  \n",
       "00017961865c4f766fdbb3cd8fe0bfb0    [buff vehicle, work light scratches, spray wax]  \n",
       "00019d812c1173c8a69c656a40fa8767      [warranty replacement of oil pressure switch]  "
      ]
     },
     "execution_count": 13,
     "metadata": {},
     "output_type": "execute_result"
    }
   ],
   "source": [
    "# Group by UUID and aggregate ItemDescription\n",
    "df = df.groupby(['UUID']).agg({'Description': 'first', 'ItemDescription': lambda x: list(x)})\n",
    "\n",
    "# Rename ItemDescription to Items\n",
    "df = df.rename(columns={'ItemDescription': 'Items'})\n",
    "\n",
    "df.head()"
   ]
  },
  {
   "cell_type": "code",
   "execution_count": 14,
   "metadata": {},
   "outputs": [
    {
     "name": "stdout",
     "output_type": "stream",
     "text": [
      "Shape before: (52245, 2)\n",
      "Shape after: (49653, 2)\n"
     ]
    }
   ],
   "source": [
    "print(f\"Shape before: {df.shape}\")\n",
    "\n",
    "# Remove rows where the length of Items is 1 AND the first element equals the Description column\n",
    "removed = ~((df['Items'].str.len() == 1) & (df['Items'].str[0] == df['Description']))\n",
    "df = df[removed]\n",
    "\n",
    "print(f\"Shape after: {df.shape}\")"
   ]
  },
  {
   "cell_type": "code",
   "execution_count": 15,
   "metadata": {},
   "outputs": [
    {
     "data": {
      "text/html": [
       "<div>\n",
       "<style scoped>\n",
       "    .dataframe tbody tr th:only-of-type {\n",
       "        vertical-align: middle;\n",
       "    }\n",
       "\n",
       "    .dataframe tbody tr th {\n",
       "        vertical-align: top;\n",
       "    }\n",
       "\n",
       "    .dataframe thead th {\n",
       "        text-align: right;\n",
       "    }\n",
       "</style>\n",
       "<table border=\"1\" class=\"dataframe\">\n",
       "  <thead>\n",
       "    <tr style=\"text-align: right;\">\n",
       "      <th></th>\n",
       "      <th>Description</th>\n",
       "      <th>Items</th>\n",
       "    </tr>\n",
       "    <tr>\n",
       "      <th>UUID</th>\n",
       "      <th></th>\n",
       "      <th></th>\n",
       "    </tr>\n",
       "  </thead>\n",
       "  <tbody>\n",
       "    <tr>\n",
       "      <th>000053b1e684c9e7ea73727b2238ce18</th>\n",
       "      <td>oc, sb, caf, af</td>\n",
       "      <td>[change oil &amp; filter, check tires &amp; adjust tir...</td>\n",
       "    </tr>\n",
       "    <tr>\n",
       "      <th>0000b2815cc3c2b56867cbbf4d36efa5</th>\n",
       "      <td>oc, sb</td>\n",
       "      <td>[change oil &amp; filter, check tires &amp; adjust tir...</td>\n",
       "    </tr>\n",
       "    <tr>\n",
       "      <th>000133296ef6b63b0210f224e1347365</th>\n",
       "      <td>oc, su, caf, wipers</td>\n",
       "      <td>[change oil &amp; filter, check tires &amp; adjust tir...</td>\n",
       "    </tr>\n",
       "    <tr>\n",
       "      <th>00017961865c4f766fdbb3cd8fe0bfb0</th>\n",
       "      <td>buff vehicle</td>\n",
       "      <td>[buff vehicle, work light scratches, spray wax]</td>\n",
       "    </tr>\n",
       "    <tr>\n",
       "      <th>00019d812c1173c8a69c656a40fa8767</th>\n",
       "      <td>warr. ops</td>\n",
       "      <td>[warranty replacement of oil pressure switch]</td>\n",
       "    </tr>\n",
       "  </tbody>\n",
       "</table>\n",
       "</div>"
      ],
      "text/plain": [
       "                                           Description  \\\n",
       "UUID                                                     \n",
       "000053b1e684c9e7ea73727b2238ce18       oc, sb, caf, af   \n",
       "0000b2815cc3c2b56867cbbf4d36efa5                oc, sb   \n",
       "000133296ef6b63b0210f224e1347365   oc, su, caf, wipers   \n",
       "00017961865c4f766fdbb3cd8fe0bfb0          buff vehicle   \n",
       "00019d812c1173c8a69c656a40fa8767             warr. ops   \n",
       "\n",
       "                                                                              Items  \n",
       "UUID                                                                                 \n",
       "000053b1e684c9e7ea73727b2238ce18  [change oil & filter, check tires & adjust tir...  \n",
       "0000b2815cc3c2b56867cbbf4d36efa5  [change oil & filter, check tires & adjust tir...  \n",
       "000133296ef6b63b0210f224e1347365  [change oil & filter, check tires & adjust tir...  \n",
       "00017961865c4f766fdbb3cd8fe0bfb0    [buff vehicle, work light scratches, spray wax]  \n",
       "00019d812c1173c8a69c656a40fa8767      [warranty replacement of oil pressure switch]  "
      ]
     },
     "execution_count": 15,
     "metadata": {},
     "output_type": "execute_result"
    }
   ],
   "source": [
    "df.head()"
   ]
  },
  {
   "cell_type": "markdown",
   "metadata": {},
   "source": [
    "---"
   ]
  },
  {
   "cell_type": "markdown",
   "metadata": {
    "_uuid": "a4cc7470e34dca13da2f169102e1c42337b86f83"
   },
   "source": [
    "## Regressor Analysis"
   ]
  },
  {
   "cell_type": "markdown",
   "metadata": {},
   "source": [
    "### Setup\n",
    "\n",
    "For the purpose of testing various models, we will use a subset of the dataset. This will allow us to quickly test various models and configurations.\n",
    "\n",
    "General notes:\n",
    "\n",
    "- X = Predictor (Description of work)\n",
    "- Y = Predictions (Array of repair labor items)"
   ]
  },
  {
   "cell_type": "code",
   "execution_count": 16,
   "metadata": {},
   "outputs": [],
   "source": [
    "from sklearn.model_selection import train_test_split\n",
    "from sklearn.preprocessing import MultiLabelBinarizer\n",
    "from sklearn.multioutput import MultiOutputRegressor"
   ]
  },
  {
   "cell_type": "code",
   "execution_count": 17,
   "metadata": {},
   "outputs": [],
   "source": [
    "model_df = df[1:250] # Take subset of data for testing purposes\n",
    "\n",
    "binarizer = MultiLabelBinarizer()\n",
    "\n",
    "X = model_df[\"Description\"]\n",
    "y = binarizer.fit_transform(model_df[\"Items\"])\n",
    "\n",
    "X_train, X_test, y_train, y_test = train_test_split(X, y, test_size = 0.4)"
   ]
  },
  {
   "cell_type": "code",
   "execution_count": 18,
   "metadata": {},
   "outputs": [],
   "source": [
    "from sklearn.pipeline import Pipeline\n",
    "from sklearn.feature_extraction.text import TfidfVectorizer\n",
    "\n",
    "pipeline = Pipeline([\n",
    "    ('tfidf', TfidfVectorizer()),\n",
    "])"
   ]
  },
  {
   "cell_type": "markdown",
   "metadata": {},
   "source": [
    "### Model 1 - Gradient Boosting Regressor"
   ]
  },
  {
   "cell_type": "code",
   "execution_count": 19,
   "metadata": {},
   "outputs": [],
   "source": [
    "from sklearn.ensemble import GradientBoostingRegressor\n",
    "\n",
    "model1 = Pipeline([\n",
    "    ('preprocessing', pipeline),\n",
    "    ('regressor', MultiOutputRegressor(GradientBoostingRegressor()))\n",
    "])\n",
    "\n",
    "# Train the model\n",
    "model1.fit(X_train, y_train)\n",
    "\n",
    "y_pred = model1.predict(X_test)"
   ]
  },
  {
   "cell_type": "code",
   "execution_count": 20,
   "metadata": {},
   "outputs": [
    {
     "data": {
      "text/html": [
       "<div>\n",
       "<style scoped>\n",
       "    .dataframe tbody tr th:only-of-type {\n",
       "        vertical-align: middle;\n",
       "    }\n",
       "\n",
       "    .dataframe tbody tr th {\n",
       "        vertical-align: top;\n",
       "    }\n",
       "\n",
       "    .dataframe thead th {\n",
       "        text-align: right;\n",
       "    }\n",
       "</style>\n",
       "<table border=\"1\" class=\"dataframe\">\n",
       "  <thead>\n",
       "    <tr style=\"text-align: right;\">\n",
       "      <th></th>\n",
       "      <th>Metric</th>\n",
       "      <th>Value</th>\n",
       "    </tr>\n",
       "  </thead>\n",
       "  <tbody>\n",
       "    <tr>\n",
       "      <th>0</th>\n",
       "      <td>MSE</td>\n",
       "      <td>0.011071</td>\n",
       "    </tr>\n",
       "    <tr>\n",
       "      <th>1</th>\n",
       "      <td>MAE</td>\n",
       "      <td>0.015876</td>\n",
       "    </tr>\n",
       "    <tr>\n",
       "      <th>2</th>\n",
       "      <td>MAPE</td>\n",
       "      <td>35692807318816.398438</td>\n",
       "    </tr>\n",
       "    <tr>\n",
       "      <th>3</th>\n",
       "      <td>R2</td>\n",
       "      <td>0.009714</td>\n",
       "    </tr>\n",
       "    <tr>\n",
       "      <th>4</th>\n",
       "      <td>CE</td>\n",
       "      <td>197.39</td>\n",
       "    </tr>\n",
       "  </tbody>\n",
       "</table>\n",
       "</div>"
      ],
      "text/plain": [
       "  Metric                  Value\n",
       "0    MSE               0.011071\n",
       "1    MAE               0.015876\n",
       "2   MAPE  35692807318816.398438\n",
       "3     R2               0.009714\n",
       "4     CE                 197.39"
      ]
     },
     "metadata": {},
     "output_type": "display_data"
    }
   ],
   "source": [
    "from sklearn.metrics import mean_squared_error, mean_absolute_error, mean_absolute_percentage_error, r2_score, coverage_error\n",
    "\n",
    "MSE = mean_squared_error(y_test, y_pred)\n",
    "MAE = mean_absolute_error(y_test, y_pred)\n",
    "MAPE = mean_absolute_percentage_error(y_test, y_pred)\n",
    "R2 = r2_score(y_test, y_pred)\n",
    "CE = coverage_error(y_test, y_pred)\n",
    "\n",
    "display(pd.DataFrame({\n",
    "    \"Metric\": [\"MSE\", \"MAE\", \"MAPE\", \"R2\", \"CE\"],\n",
    "    \"Value\": [MSE, MAE, MAPE, R2, f\"{CE:.2f}\"]\n",
    "}))"
   ]
  },
  {
   "cell_type": "markdown",
   "metadata": {},
   "source": [
    "### Model 2 - Decision Tree Regressor"
   ]
  },
  {
   "cell_type": "code",
   "execution_count": 21,
   "metadata": {},
   "outputs": [],
   "source": [
    "from sklearn.tree import DecisionTreeRegressor\n",
    "\n",
    "model2 = Pipeline([\n",
    "    ('preprocessing', pipeline),\n",
    "    ('regressor', MultiOutputRegressor(DecisionTreeRegressor()))\n",
    "])\n",
    "\n",
    "model2.fit(X_train, y_train)\n",
    "\n",
    "y_pred = model2.predict(X_test)"
   ]
  },
  {
   "cell_type": "code",
   "execution_count": 22,
   "metadata": {},
   "outputs": [
    {
     "data": {
      "text/html": [
       "<div>\n",
       "<style scoped>\n",
       "    .dataframe tbody tr th:only-of-type {\n",
       "        vertical-align: middle;\n",
       "    }\n",
       "\n",
       "    .dataframe tbody tr th {\n",
       "        vertical-align: top;\n",
       "    }\n",
       "\n",
       "    .dataframe thead th {\n",
       "        text-align: right;\n",
       "    }\n",
       "</style>\n",
       "<table border=\"1\" class=\"dataframe\">\n",
       "  <thead>\n",
       "    <tr style=\"text-align: right;\">\n",
       "      <th></th>\n",
       "      <th>Metric</th>\n",
       "      <th>Value</th>\n",
       "    </tr>\n",
       "  </thead>\n",
       "  <tbody>\n",
       "    <tr>\n",
       "      <th>0</th>\n",
       "      <td>MSE</td>\n",
       "      <td>0.014805</td>\n",
       "    </tr>\n",
       "    <tr>\n",
       "      <th>1</th>\n",
       "      <td>MAE</td>\n",
       "      <td>0.017741</td>\n",
       "    </tr>\n",
       "    <tr>\n",
       "      <th>2</th>\n",
       "      <td>MAPE</td>\n",
       "      <td>45765447325559.492188</td>\n",
       "    </tr>\n",
       "    <tr>\n",
       "      <th>3</th>\n",
       "      <td>R2</td>\n",
       "      <td>0.286342</td>\n",
       "    </tr>\n",
       "    <tr>\n",
       "      <th>4</th>\n",
       "      <td>CE</td>\n",
       "      <td>226.85</td>\n",
       "    </tr>\n",
       "  </tbody>\n",
       "</table>\n",
       "</div>"
      ],
      "text/plain": [
       "  Metric                  Value\n",
       "0    MSE               0.014805\n",
       "1    MAE               0.017741\n",
       "2   MAPE  45765447325559.492188\n",
       "3     R2               0.286342\n",
       "4     CE                 226.85"
      ]
     },
     "metadata": {},
     "output_type": "display_data"
    }
   ],
   "source": [
    "MSE = mean_squared_error(y_test, y_pred)\n",
    "MAE = mean_absolute_error(y_test, y_pred)\n",
    "MAPE = mean_absolute_percentage_error(y_test, y_pred)\n",
    "R2 = r2_score(y_test, y_pred)\n",
    "CE = coverage_error(y_test, y_pred)\n",
    "\n",
    "display(pd.DataFrame({\n",
    "    \"Metric\": [\"MSE\", \"MAE\", \"MAPE\", \"R2\", \"CE\"],\n",
    "    \"Value\": [MSE, MAE, MAPE, R2, f\"{CE:.2f}\"]\n",
    "}))"
   ]
  },
  {
   "cell_type": "markdown",
   "metadata": {},
   "source": [
    "### Model 3 - Random Forest"
   ]
  },
  {
   "cell_type": "code",
   "execution_count": 23,
   "metadata": {},
   "outputs": [],
   "source": [
    "from sklearn.ensemble import RandomForestRegressor\n",
    "\n",
    "model3 = Pipeline([\n",
    "    ('preprocessing', pipeline),\n",
    "    ('regressor', MultiOutputRegressor(RandomForestRegressor()))\n",
    "])\n",
    "\n",
    "model3.fit(X_train, y_train)\n",
    "\n",
    "y_pred = model3.predict(X_test)"
   ]
  },
  {
   "cell_type": "code",
   "execution_count": 24,
   "metadata": {},
   "outputs": [
    {
     "data": {
      "text/html": [
       "<div>\n",
       "<style scoped>\n",
       "    .dataframe tbody tr th:only-of-type {\n",
       "        vertical-align: middle;\n",
       "    }\n",
       "\n",
       "    .dataframe tbody tr th {\n",
       "        vertical-align: top;\n",
       "    }\n",
       "\n",
       "    .dataframe thead th {\n",
       "        text-align: right;\n",
       "    }\n",
       "</style>\n",
       "<table border=\"1\" class=\"dataframe\">\n",
       "  <thead>\n",
       "    <tr style=\"text-align: right;\">\n",
       "      <th></th>\n",
       "      <th>Metric</th>\n",
       "      <th>Value</th>\n",
       "    </tr>\n",
       "  </thead>\n",
       "  <tbody>\n",
       "    <tr>\n",
       "      <th>0</th>\n",
       "      <td>MSE</td>\n",
       "      <td>0.010779</td>\n",
       "    </tr>\n",
       "    <tr>\n",
       "      <th>1</th>\n",
       "      <td>MAE</td>\n",
       "      <td>0.017994</td>\n",
       "    </tr>\n",
       "    <tr>\n",
       "      <th>2</th>\n",
       "      <td>MAPE</td>\n",
       "      <td>47121103282558.382812</td>\n",
       "    </tr>\n",
       "    <tr>\n",
       "      <th>3</th>\n",
       "      <td>R2</td>\n",
       "      <td>0.144535</td>\n",
       "    </tr>\n",
       "    <tr>\n",
       "      <th>4</th>\n",
       "      <td>CE</td>\n",
       "      <td>201.74</td>\n",
       "    </tr>\n",
       "  </tbody>\n",
       "</table>\n",
       "</div>"
      ],
      "text/plain": [
       "  Metric                  Value\n",
       "0    MSE               0.010779\n",
       "1    MAE               0.017994\n",
       "2   MAPE  47121103282558.382812\n",
       "3     R2               0.144535\n",
       "4     CE                 201.74"
      ]
     },
     "metadata": {},
     "output_type": "display_data"
    }
   ],
   "source": [
    "MSE = mean_squared_error(y_test, y_pred)\n",
    "MAE = mean_absolute_error(y_test, y_pred)\n",
    "MAPE = mean_absolute_percentage_error(y_test, y_pred)\n",
    "R2 = r2_score(y_test, y_pred)\n",
    "CE = coverage_error(y_test, y_pred)\n",
    "\n",
    "display(pd.DataFrame({\n",
    "    \"Metric\": [\"MSE\", \"MAE\", \"MAPE\", \"R2\", \"CE\"],\n",
    "    \"Value\": [MSE, MAE, MAPE, R2, f\"{CE:.2f}\"]\n",
    "}))"
   ]
  },
  {
   "cell_type": "markdown",
   "metadata": {},
   "source": [
    "### Model 4 - XGBRegressor"
   ]
  },
  {
   "cell_type": "code",
   "execution_count": 25,
   "metadata": {},
   "outputs": [],
   "source": [
    "from xgboost import XGBRegressor\n",
    "\n",
    "model4 = Pipeline([\n",
    "    ('preprocessing', pipeline),\n",
    "    ('regressor', MultiOutputRegressor(XGBRegressor()))\n",
    "])\n",
    "\n",
    "model4.fit(X_train, y_train)\n",
    "\n",
    "y_pred = model4.predict(X_test)"
   ]
  },
  {
   "cell_type": "code",
   "execution_count": 26,
   "metadata": {},
   "outputs": [
    {
     "data": {
      "text/html": [
       "<div>\n",
       "<style scoped>\n",
       "    .dataframe tbody tr th:only-of-type {\n",
       "        vertical-align: middle;\n",
       "    }\n",
       "\n",
       "    .dataframe tbody tr th {\n",
       "        vertical-align: top;\n",
       "    }\n",
       "\n",
       "    .dataframe thead th {\n",
       "        text-align: right;\n",
       "    }\n",
       "</style>\n",
       "<table border=\"1\" class=\"dataframe\">\n",
       "  <thead>\n",
       "    <tr style=\"text-align: right;\">\n",
       "      <th></th>\n",
       "      <th>Metric</th>\n",
       "      <th>Value</th>\n",
       "    </tr>\n",
       "  </thead>\n",
       "  <tbody>\n",
       "    <tr>\n",
       "      <th>0</th>\n",
       "      <td>MSE</td>\n",
       "      <td>0.011419</td>\n",
       "    </tr>\n",
       "    <tr>\n",
       "      <th>1</th>\n",
       "      <td>MAE</td>\n",
       "      <td>0.015173</td>\n",
       "    </tr>\n",
       "    <tr>\n",
       "      <th>2</th>\n",
       "      <td>MAPE</td>\n",
       "      <td>32941939200567.085938</td>\n",
       "    </tr>\n",
       "    <tr>\n",
       "      <th>3</th>\n",
       "      <td>R2</td>\n",
       "      <td>0.008591</td>\n",
       "    </tr>\n",
       "    <tr>\n",
       "      <th>4</th>\n",
       "      <td>CE</td>\n",
       "      <td>200.71</td>\n",
       "    </tr>\n",
       "  </tbody>\n",
       "</table>\n",
       "</div>"
      ],
      "text/plain": [
       "  Metric                  Value\n",
       "0    MSE               0.011419\n",
       "1    MAE               0.015173\n",
       "2   MAPE  32941939200567.085938\n",
       "3     R2               0.008591\n",
       "4     CE                 200.71"
      ]
     },
     "metadata": {},
     "output_type": "display_data"
    }
   ],
   "source": [
    "MSE = mean_squared_error(y_test, y_pred)\n",
    "MAE = mean_absolute_error(y_test, y_pred)\n",
    "MAPE = mean_absolute_percentage_error(y_test, y_pred)\n",
    "R2 = r2_score(y_test, y_pred)\n",
    "CE = coverage_error(y_test, y_pred)\n",
    "\n",
    "display(pd.DataFrame({\n",
    "    \"Metric\": [\"MSE\", \"MAE\", \"MAPE\", \"R2\", \"CE\"],\n",
    "    \"Value\": [MSE, MAE, MAPE, R2, f\"{CE:.2f}\"]\n",
    "}))"
   ]
  },
  {
   "cell_type": "markdown",
   "metadata": {},
   "source": [
    "### Model 5 - K Nearest Neighbors"
   ]
  },
  {
   "cell_type": "code",
   "execution_count": 27,
   "metadata": {},
   "outputs": [],
   "source": [
    "from sklearn.neighbors import KNeighborsRegressor\n",
    "\n",
    "model5 = Pipeline([\n",
    "    ('preprocessing', pipeline),\n",
    "    ('regressor', MultiOutputRegressor(KNeighborsRegressor(n_neighbors=5)))\n",
    "])\n",
    "\n",
    "model5.fit(X_train, y_train)\n",
    "\n",
    "y_pred = model5.predict(X_test)"
   ]
  },
  {
   "cell_type": "code",
   "execution_count": 28,
   "metadata": {},
   "outputs": [
    {
     "data": {
      "text/html": [
       "<div>\n",
       "<style scoped>\n",
       "    .dataframe tbody tr th:only-of-type {\n",
       "        vertical-align: middle;\n",
       "    }\n",
       "\n",
       "    .dataframe tbody tr th {\n",
       "        vertical-align: top;\n",
       "    }\n",
       "\n",
       "    .dataframe thead th {\n",
       "        text-align: right;\n",
       "    }\n",
       "</style>\n",
       "<table border=\"1\" class=\"dataframe\">\n",
       "  <thead>\n",
       "    <tr style=\"text-align: right;\">\n",
       "      <th></th>\n",
       "      <th>Metric</th>\n",
       "      <th>Value</th>\n",
       "    </tr>\n",
       "  </thead>\n",
       "  <tbody>\n",
       "    <tr>\n",
       "      <th>0</th>\n",
       "      <td>MSE</td>\n",
       "      <td>0.011992</td>\n",
       "    </tr>\n",
       "    <tr>\n",
       "      <th>1</th>\n",
       "      <td>MAE</td>\n",
       "      <td>0.019474</td>\n",
       "    </tr>\n",
       "    <tr>\n",
       "      <th>2</th>\n",
       "      <td>MAPE</td>\n",
       "      <td>46843669480538.789062</td>\n",
       "    </tr>\n",
       "    <tr>\n",
       "      <th>3</th>\n",
       "      <td>R2</td>\n",
       "      <td>0.30925</td>\n",
       "    </tr>\n",
       "    <tr>\n",
       "      <th>4</th>\n",
       "      <td>CE</td>\n",
       "      <td>213.25</td>\n",
       "    </tr>\n",
       "  </tbody>\n",
       "</table>\n",
       "</div>"
      ],
      "text/plain": [
       "  Metric                  Value\n",
       "0    MSE               0.011992\n",
       "1    MAE               0.019474\n",
       "2   MAPE  46843669480538.789062\n",
       "3     R2                0.30925\n",
       "4     CE                 213.25"
      ]
     },
     "metadata": {},
     "output_type": "display_data"
    }
   ],
   "source": [
    "MSE = mean_squared_error(y_test, y_pred)\n",
    "MAE = mean_absolute_error(y_test, y_pred)\n",
    "MAPE = mean_absolute_percentage_error(y_test, y_pred)\n",
    "R2 = r2_score(y_test, y_pred)\n",
    "CE = coverage_error(y_test, y_pred)\n",
    "\n",
    "display(pd.DataFrame({\n",
    "    \"Metric\": [\"MSE\", \"MAE\", \"MAPE\", \"R2\", \"CE\"],\n",
    "    \"Value\": [MSE, MAE, MAPE, R2, f\"{CE:.2f}\"]\n",
    "}))"
   ]
  },
  {
   "cell_type": "markdown",
   "metadata": {},
   "source": [
    "---"
   ]
  },
  {
   "cell_type": "markdown",
   "metadata": {},
   "source": [
    "## Building the Model\n",
    "\n",
    "Based on the above metrics, the best model for this dataset is the XGBoost XBGRegressor. Let's build the model using the entire dataset."
   ]
  },
  {
   "cell_type": "code",
   "execution_count": 33,
   "metadata": {},
   "outputs": [
    {
     "data": {
      "text/plain": [
       "'Statistics for XGBRegressor model with 9999 samples'"
      ]
     },
     "metadata": {},
     "output_type": "display_data"
    },
    {
     "data": {
      "text/html": [
       "<div>\n",
       "<style scoped>\n",
       "    .dataframe tbody tr th:only-of-type {\n",
       "        vertical-align: middle;\n",
       "    }\n",
       "\n",
       "    .dataframe tbody tr th {\n",
       "        vertical-align: top;\n",
       "    }\n",
       "\n",
       "    .dataframe thead th {\n",
       "        text-align: right;\n",
       "    }\n",
       "</style>\n",
       "<table border=\"1\" class=\"dataframe\">\n",
       "  <thead>\n",
       "    <tr style=\"text-align: right;\">\n",
       "      <th></th>\n",
       "      <th>Metric</th>\n",
       "      <th>Value</th>\n",
       "    </tr>\n",
       "  </thead>\n",
       "  <tbody>\n",
       "    <tr>\n",
       "      <th>0</th>\n",
       "      <td>MSE</td>\n",
       "      <td>0.000381</td>\n",
       "    </tr>\n",
       "    <tr>\n",
       "      <th>1</th>\n",
       "      <td>MAE</td>\n",
       "      <td>0.000554</td>\n",
       "    </tr>\n",
       "    <tr>\n",
       "      <th>2</th>\n",
       "      <td>MAPE</td>\n",
       "      <td>1227990074090.23877</td>\n",
       "    </tr>\n",
       "    <tr>\n",
       "      <th>3</th>\n",
       "      <td>R2</td>\n",
       "      <td>-0.032225</td>\n",
       "    </tr>\n",
       "    <tr>\n",
       "      <th>4</th>\n",
       "      <td>CE</td>\n",
       "      <td>3439.02</td>\n",
       "    </tr>\n",
       "  </tbody>\n",
       "</table>\n",
       "</div>"
      ],
      "text/plain": [
       "  Metric                Value\n",
       "0    MSE             0.000381\n",
       "1    MAE             0.000554\n",
       "2   MAPE  1227990074090.23877\n",
       "3     R2            -0.032225\n",
       "4     CE              3439.02"
      ]
     },
     "metadata": {},
     "output_type": "display_data"
    }
   ],
   "source": [
    "from xgboost import XGBRegressor\n",
    "\n",
    "binarizer = MultiLabelBinarizer()\n",
    "\n",
    "model_df = df[0:10000]\n",
    "\n",
    "X = model_df[\"Description\"]\n",
    "y = binarizer.fit_transform(model_df[\"Items\"])\n",
    "\n",
    "X_train, X_test, y_train, y_test = train_test_split(X, y, test_size = 0.4)\n",
    "\n",
    "pipeline = Pipeline([\n",
    "  ('tfidf', TfidfVectorizer()),\n",
    "])\n",
    "\n",
    "model = Pipeline([\n",
    "  ('preprocessing', pipeline),\n",
    "  ('regressor', MultiOutputRegressor(XGBRegressor()))\n",
    "])\n",
    "\n",
    "model.fit(X_train, y_train)\n",
    "\n",
    "y_pred = model.predict(X_test)\n",
    "\n",
    "MSE = mean_squared_error(y_test, y_pred)\n",
    "MAE = mean_absolute_error(y_test, y_pred)\n",
    "MAPE = mean_absolute_percentage_error(y_test, y_pred)\n",
    "R2 = r2_score(y_test, y_pred)\n",
    "CE = coverage_error(y_test, y_pred)\n",
    "\n",
    "display(f\"Statistics for XGBRegressor model with {len(model_df)} samples\")\n",
    "display(pd.DataFrame({\n",
    "  \"Metric\": [\"MSE\", \"MAE\", \"MAPE\", \"R2\", \"CE\"],\n",
    "  \"Value\": [MSE, MAE, MAPE, R2, f\"{CE:.2f}\"]\n",
    "}))"
   ]
  },
  {
   "cell_type": "markdown",
   "metadata": {},
   "source": [
    "---"
   ]
  },
  {
   "cell_type": "markdown",
   "metadata": {
    "_uuid": "f15e55b79aab823012c20012b6e4b0d4a0655815",
    "collapsed": true
   },
   "source": [
    "##  Model Usage"
   ]
  },
  {
   "cell_type": "markdown",
   "metadata": {},
   "source": [
    "### Serializing the Model\n",
    "\n",
    "Export the selected model and the vectorizer to a file for use in the API."
   ]
  },
  {
   "cell_type": "code",
   "execution_count": 34,
   "metadata": {},
   "outputs": [],
   "source": [
    "import pickle\n",
    "\n",
    "pkl_filename = \"model.pkl\"\n",
    "with open(pkl_filename, 'wb') as file:\n",
    "    pickle.dump(model, file)\n",
    "\n",
    "pkl_bin_filename = \"binarizer.pkl\"\n",
    "with open(pkl_bin_filename, 'wb') as file:\n",
    "    pickle.dump(binarizer, file)"
   ]
  },
  {
   "cell_type": "markdown",
   "metadata": {},
   "source": [
    "### Implementing the Model in the API\n",
    "\n",
    "Demo of how to use the model to predict the labor lines given a description of the work performed."
   ]
  },
  {
   "cell_type": "code",
   "execution_count": 43,
   "metadata": {},
   "outputs": [],
   "source": [
    "with open(\"model.pkl\", 'rb') as file:\n",
    "    pickle_model = pickle.load(file)\n",
    "    file.close()\n",
    "\n",
    "with open('binarizer.pkl', 'rb') as file:\n",
    "    pickle_bin = pickle.load(file)\n",
    "    file.close()"
   ]
  },
  {
   "cell_type": "code",
   "execution_count": 42,
   "metadata": {},
   "outputs": [
    {
     "name": "stdout",
     "output_type": "stream",
     "text": [
      "- change oil & filter\n",
      "- check & top off brake fluid as necessary\n",
      "- check & top off engine coolant as necessary\n",
      "- check & top off power steering fluid as necessary\n",
      "- check & top off transmission fluid as necessary\n",
      "- check & top off washer fluid\n",
      "- check tires & adjust tire pressure as necessary\n",
      "- courtesy inspection / general check-over\n",
      "- mount & comp. balance two new a/s tires\n"
     ]
    }
   ],
   "source": [
    "X_predict = [\"oc, su, tires\"]\n",
    "y_predict = pickle_model.predict(X_predict)\n",
    "y_predict_bin = np.round(y_predict).astype(int)\n",
    "y_predict_labels = pickle_bin.inverse_transform(y_predict_bin)\n",
    "\n",
    "if (len(y_predict_labels) == 0):\n",
    "  print(\"No predictions\")\n",
    "else:\n",
    "  for _, prediction in enumerate(y_predict_labels[0]):\n",
    "    print(f\"- {prediction}\")"
   ]
  }
 ],
 "metadata": {
  "kernelspec": {
   "display_name": "Python 3",
   "language": "python",
   "name": "python3"
  },
  "language_info": {
   "codemirror_mode": {
    "name": "ipython",
    "version": 3
   },
   "file_extension": ".py",
   "mimetype": "text/x-python",
   "name": "python",
   "nbconvert_exporter": "python",
   "pygments_lexer": "ipython3",
   "version": "3.10.12"
  }
 },
 "nbformat": 4,
 "nbformat_minor": 1
}
